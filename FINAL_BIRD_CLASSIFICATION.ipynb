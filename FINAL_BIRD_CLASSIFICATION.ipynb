{
  "nbformat": 4,
  "nbformat_minor": 0,
  "metadata": {
    "colab": {
      "name": "FINAL_BIRD_CLASSIFICATION.ipynb",
      "provenance": [],
      "mount_file_id": "19uCxn4oIbNFxZvNh_AZMFeyiPbcufV1_",
      "authorship_tag": "ABX9TyPohYvj1bao42gSsBGo7gM4",
      "include_colab_link": true
    },
    "kernelspec": {
      "name": "python3",
      "display_name": "Python 3"
    },
    "accelerator": "GPU"
  },
  "cells": [
    {
      "cell_type": "markdown",
      "metadata": {
        "id": "view-in-github",
        "colab_type": "text"
      },
      "source": [
        "<a href=\"https://colab.research.google.com/github/prathamsss/Airport-Security/blob/master/FINAL_BIRD_CLASSIFICATION.ipynb\" target=\"_parent\"><img src=\"https://colab.research.google.com/assets/colab-badge.svg\" alt=\"Open In Colab\"/></a>"
      ]
    },
    {
      "cell_type": "code",
      "metadata": {
        "id": "bcMYafCkv1aX",
        "colab_type": "code",
        "colab": {}
      },
      "source": [
        "from __future__ import absolute_import, division, print_function\n",
        "\n",
        "import tensorflow as tf\n",
        "\n",
        "import tensorflow.keras.backend as K\n",
        "from tensorflow.keras.models import load_model\n",
        "from tensorflow.keras.preprocessing import image\n",
        "from tensorflow.keras import regularizers\n",
        "from tensorflow.keras.applications.inception_v3 import InceptionV3\n",
        "from tensorflow.keras.models import Model\n",
        "from tensorflow.keras.layers import Dense, Dropout\n",
        "from tensorflow.keras.layers import GlobalAveragePooling2D\n",
        "from tensorflow.keras.preprocessing.image import ImageDataGenerator\n",
        "from tensorflow.keras.callbacks import ModelCheckpoint, CSVLogger\n",
        "from tensorflow.keras.optimizers import SGD\n",
        "from tensorflow.keras.regularizers import l2\n",
        "\n",
        "from tensorflow import keras\n",
        "from tensorflow.keras import models\n",
        "from tensorflow.keras.applications.inception_v3 import preprocess_input\n",
        "\n",
        "import cv2\n",
        "import os\n",
        "import random\n",
        "import collections\n",
        "from collections import defaultdict\n",
        "\n",
        "from shutil import copy\n",
        "from shutil import copytree, rmtree\n",
        "\n",
        "import numpy as np\n",
        "\n",
        "import matplotlib.pyplot as plt\n",
        "import matplotlib.image as img\n",
        "%matplotlib inline\n",
        "import tensorflow as tf\n"
      ],
      "execution_count": null,
      "outputs": []
    },
    {
      "cell_type": "code",
      "metadata": {
        "id": "XeAHdlRvvsW_",
        "colab_type": "code",
        "colab": {}
      },
      "source": [
        "n_classes = 50             # Setting Parameters \n",
        "\n",
        "epochs = 15\n",
        "\n",
        "nb_train_samples =  1500\n",
        "nb_validation_samples = 1389\n",
        "\n"
      ],
      "execution_count": null,
      "outputs": []
    },
    {
      "cell_type": "code",
      "metadata": {
        "id": "yQlZEswovpaE",
        "colab_type": "code",
        "colab": {
          "base_uri": "https://localhost:8080/",
          "height": 49
        },
        "outputId": "b1880898-1245-4977-f84a-3bcfb7cf3774"
      },
      "source": [
        "# Traning only for 50 classes \n",
        "\n",
        "'''. Folders spilted as :-    First 50 ----> 1. Train.  ---> class 1\n",
        "                                                        ---> Class 2\n",
        "                                                        .....class 50\n",
        "                                       ----> 2. Test.   ---> class 1\n",
        "                                                        ---> Class 2\n",
        "                                                        .....class 50 '''\n",
        "                                    \n",
        "\n",
        "\n",
        "img_width, img_height = 299, 299\n",
        "\n",
        "\n",
        "train_data_dir = '/content/drive/My Drive/ML codes/Bird Detection/Dataset/CUB_200_2011/f_50/train'\n",
        "validation_data_dir = '/content/drive/My Drive/ML codes/Bird Detection/Dataset/CUB_200_2011/f_50/test'\n",
        "batch_size = 16\n",
        "\n",
        "\n",
        "                    # Form keras using imgdatagenrator for managing data\n",
        "\n",
        "\n",
        "datagen = ImageDataGenerator(\n",
        "      preprocessing_function=preprocess_input,\n",
        "      shear_range=0.2,\n",
        "      zoom_range=0.2,\n",
        "      horizontal_flip=True,\n",
        "       rescale=1./255)\n",
        "     \n",
        "\n",
        "train_generator = datagen.flow_from_directory(train_data_dir,\n",
        "                                              target_size=(img_height, img_width),\n",
        "                                              batch_size=batch_size,\n",
        "                                              class_mode='categorical')\n",
        "\n",
        "validation_generator = datagen.flow_from_directory(\n",
        "                                                  validation_data_dir,\n",
        "                                                  target_size=(img_height, img_width),\n",
        "                                                  batch_size=batch_size,\n",
        "                                                  class_mode='categorical')\n"
      ],
      "execution_count": null,
      "outputs": [
        {
          "output_type": "stream",
          "text": [
            "Found 1500 images belonging to 50 classes.\n",
            "Found 1389 images belonging to 50 classes.\n"
          ],
          "name": "stdout"
        }
      ]
    },
    {
      "cell_type": "code",
      "metadata": {
        "id": "bjz5sy4fxqz7",
        "colab_type": "code",
        "colab": {}
      },
      "source": [
        "# Constucting MODEL\n",
        "\n",
        "model_nm = 'DenseNet169'+'__'            ##   Enter model nm \n",
        "path='/content/drive/My Drive/ML/Bird_classification_model_2/'\n",
        "\n",
        "bestmodel_path = path+'bestmodel_'+model_nm+str(n_classes)+'class.hdf5'\n",
        "trainedmodel_path = path+'trainedmodel_'+model_nm+str(n_classes)+'class.hdf5'\n",
        "history_path = path+'history_'+model_nm+str(n_classes)+'.log'\n",
        "\n",
        "import tensorflow as tf\n",
        "\n",
        "inception = tf.keras.applications.DenseNet169(weights='imagenet', include_top=False)\n",
        "\n",
        "x = inception.output\n",
        "x = GlobalAveragePooling2D()(x)\n",
        "x = Dense(128,activation='relu')(x)\n",
        "x = Dropout(0.2)(x)\n",
        "\n",
        "predictions = Dense(n_classes,kernel_regularizer=regularizers.l2(0.005), activation='softmax')(x)\n",
        "                                                                                                                  #.  Compiling model.\n",
        "model = Model(inputs=inception.input, outputs=predictions)\n",
        "model.compile(optimizer=SGD(lr=0.001, momentum=0.9), loss='categorical_crossentropy', metrics=['accuracy'])\n",
        "\n",
        "\n",
        "checkpoint = ModelCheckpoint(filepath=bestmodel_path, verbose=1, save_best_only=True)\n",
        "csv_logger = CSVLogger(history_path)\n",
        "\n",
        "#class_map = train_generator.class_indices\n"
      ],
      "execution_count": null,
      "outputs": []
    },
    {
      "cell_type": "code",
      "metadata": {
        "id": "9jgVvM2mU2GU",
        "colab_type": "code",
        "colab": {
          "base_uri": "https://localhost:8080/",
          "height": 511
        },
        "outputId": "34c3740c-c129-4a4a-8079-f6f51e2c9b55"
      },
      "source": [
        "#.  Fitting model\n",
        "history = model.fit_generator(train_generator,\n",
        "                              steps_per_epoch = nb_train_samples // batch_size,\n",
        "                              validation_data = validation_generator,\n",
        "                              validation_steps = nb_validation_samples // batch_size,\n",
        "                              epochs=epochs,\n",
        "                              verbose=1)"
      ],
      "execution_count": null,
      "outputs": [
        {
          "output_type": "stream",
          "text": [
            "Epoch 1/15\n",
            "93/93 [==============================] - 72s 774ms/step - loss: 4.0154 - accuracy: 0.0984 - val_loss: 4.7434 - val_accuracy: 0.0254\n",
            "Epoch 2/15\n",
            "93/93 [==============================] - 70s 753ms/step - loss: 2.6453 - accuracy: 0.4609 - val_loss: 5.4720 - val_accuracy: 0.0254\n",
            "Epoch 3/15\n",
            "93/93 [==============================] - 70s 749ms/step - loss: 1.7112 - accuracy: 0.6867 - val_loss: 4.7108 - val_accuracy: 0.0218\n",
            "Epoch 4/15\n",
            "93/93 [==============================] - 70s 749ms/step - loss: 1.2679 - accuracy: 0.7655 - val_loss: 4.4692 - val_accuracy: 0.0356\n",
            "Epoch 5/15\n",
            "93/93 [==============================] - 69s 745ms/step - loss: 1.0101 - accuracy: 0.8518 - val_loss: 4.1817 - val_accuracy: 0.0640\n",
            "Epoch 6/15\n",
            "93/93 [==============================] - 69s 746ms/step - loss: 0.8287 - accuracy: 0.8875 - val_loss: 3.8978 - val_accuracy: 0.1250\n",
            "Epoch 7/15\n",
            "93/93 [==============================] - 70s 751ms/step - loss: 0.7125 - accuracy: 0.9252 - val_loss: 2.9273 - val_accuracy: 0.3198\n",
            "Epoch 8/15\n",
            "93/93 [==============================] - 71s 760ms/step - loss: 0.6179 - accuracy: 0.9501 - val_loss: 2.3578 - val_accuracy: 0.4615\n",
            "Epoch 9/15\n",
            "93/93 [==============================] - 72s 769ms/step - loss: 0.5660 - accuracy: 0.9623 - val_loss: 1.7880 - val_accuracy: 0.5923\n",
            "Epoch 10/15\n",
            "93/93 [==============================] - 73s 782ms/step - loss: 0.5240 - accuracy: 0.9730 - val_loss: 1.5633 - val_accuracy: 0.6504\n",
            "Epoch 11/15\n",
            "93/93 [==============================] - 73s 786ms/step - loss: 0.4801 - accuracy: 0.9832 - val_loss: 1.2675 - val_accuracy: 0.7311\n",
            "Epoch 12/15\n",
            "93/93 [==============================] - 73s 783ms/step - loss: 0.4651 - accuracy: 0.9838 - val_loss: 1.1323 - val_accuracy: 0.7733\n",
            "Epoch 13/15\n",
            "93/93 [==============================] - 73s 782ms/step - loss: 0.4361 - accuracy: 0.9879 - val_loss: 1.0542 - val_accuracy: 0.7922\n",
            "Epoch 14/15\n",
            "93/93 [==============================] - 73s 788ms/step - loss: 0.4338 - accuracy: 0.9845 - val_loss: 0.9953 - val_accuracy: 0.7980\n",
            "Epoch 15/15\n",
            "93/93 [==============================] - 74s 797ms/step - loss: 0.4041 - accuracy: 0.9939 - val_loss: 0.9000 - val_accuracy: 0.8205\n"
          ],
          "name": "stdout"
        }
      ]
    },
    {
      "cell_type": "code",
      "metadata": {
        "id": "2Ld-pCpUOn4j",
        "colab_type": "code",
        "colab": {}
      },
      "source": [
        "# Saving model'''\n",
        "\n",
        "model.save('/content/drive/My Drive/ML/Bird_classification_model/'+model_nm+str(n_classes)+'_class.hdf5')\n",
        "class_map = train_generator.class_indices"
      ],
      "execution_count": null,
      "outputs": []
    },
    {
      "cell_type": "code",
      "metadata": {
        "id": "8YqcIyzRyguK",
        "colab_type": "code",
        "colab": {}
      },
      "source": [
        "# Loading Model\n",
        "import tensorflow as tf\n",
        "ms=tf.keras.models.load_model(\n",
        "    '/content/drive/My Drive/ML/Bird_classification_model/bestmodel_DenseNet169__200class.hdf5', compile=True)"
      ],
      "execution_count": null,
      "outputs": []
    },
    {
      "cell_type": "code",
      "metadata": {
        "id": "dhWgvFS_ebMO",
        "colab_type": "code",
        "colab": {
          "base_uri": "https://localhost:8080/",
          "height": 66
        },
        "outputId": "fd798bcc-1a30-4776-dbf4-2388bf177cef"
      },
      "source": [
        "# Evaluation model\n",
        "\n",
        "p=model.evaluate_generator(generator=validation_generator)\n",
        "path='/content/drive/My Drive/ML/'\n",
        "\n",
        "with open(path+'All_Performance.txt','a') as f:\n",
        "  f.write('\\n')\n",
        "  f.write(str(model_nm+\"-->\"+str(p))+'  No Of Epoch = '+str(epochs)+'   No Of Classes = '+str(n_classes))"
      ],
      "execution_count": null,
      "outputs": [
        {
          "output_type": "stream",
          "text": [
            "WARNING:tensorflow:From <ipython-input-11-f087b21a7c1a>:3: Model.evaluate_generator (from tensorflow.python.keras.engine.training) is deprecated and will be removed in a future version.\n",
            "Instructions for updating:\n",
            "Please use Model.evaluate, which supports generators.\n"
          ],
          "name": "stdout"
        }
      ]
    },
    {
      "cell_type": "code",
      "metadata": {
        "id": "C2tmcMnv5W43",
        "colab_type": "code",
        "colab": {
          "base_uri": "https://localhost:8080/",
          "height": 297
        },
        "outputId": "55292027-9ab1-400c-823a-0ffeaccbeb32"
      },
      "source": [
        "# Predicting Samples\n",
        "\n",
        "\n",
        "def predict_class(model, images, show = True):\n",
        "    img = image.load_img(images, target_size=(299, 299))\n",
        "    img = image.img_to_array(img)                    \n",
        "    img = np.expand_dims(img, axis=0)         \n",
        "    img = preprocess_input(img)                                      \n",
        "\n",
        "    pred = model.predict(img)\n",
        "    \n",
        "    index = np.argmax(pred)\n",
        "    l=list(validation_generator.class_indices)   \n",
        "    pred_value = l[index]\n",
        "    #print(pred)\n",
        "    if show:\n",
        "        plt.imshow(img[0])                           \n",
        "        plt.axis('off')\n",
        "        print(\"Predicted class  = \",pred_value)\n",
        "        plt.title(pred_value)\n",
        "        plt.show()\n",
        "\n",
        "# Give path of image to predict\n",
        "path_2='/content/drive/My Drive/ML codes/Bird Detection/Dataset/CUB_200_2011/My_data/train/002.Laysan_Albatross/Laysan_Albatross_0083_756.jpg'\n",
        "  \n",
        "predict_class(model,path_2,show = True)"
      ],
      "execution_count": null,
      "outputs": [
        {
          "output_type": "stream",
          "text": [
            "Clipping input data to the valid range for imshow with RGB data ([0..1] for floats or [0..255] for integers).\n"
          ],
          "name": "stderr"
        },
        {
          "output_type": "stream",
          "text": [
            "Predicted class  =  003.Sooty_Albatross\n"
          ],
          "name": "stdout"
        },
        {
          "output_type": "display_data",
          "data": {
            "image/png": "[encoded data removed]",
            "text/plain": [
              "<Figure size 432x288 with 1 Axes>"
            ]
          },
          "metadata": {
            "tags": [],
            "needs_background": "light"
          }
        }
      ]
    },
    {
      "cell_type": "code",
      "metadata": {
        "id": "-HW07SWZfQKU",
        "colab_type": "code",
        "colab": {
          "base_uri": "https://localhost:8080/",
          "height": 66
        },
        "outputId": "9f50e666-d995-4e12-9c70-79e77e8da5cf"
      },
      "source": [
        "# Confusion matrix\n",
        "from sklearn import metrics\n",
        "import numpy as np\n",
        "predictions = model.predict_generator(validation_generator)\n"
      ],
      "execution_count": null,
      "outputs": [
        {
          "output_type": "stream",
          "text": [
            "WARNING:tensorflow:From <ipython-input-16-eee5d05dd15a>:4: Model.predict_generator (from tensorflow.python.keras.engine.training) is deprecated and will be removed in a future version.\n",
            "Instructions for updating:\n",
            "Please use Model.predict, which supports generators.\n"
          ],
          "name": "stdout"
        }
      ]
    },
    {
      "cell_type": "code",
      "metadata": {
        "id": "Iax_ddXGwH1C",
        "colab_type": "code",
        "colab": {
          "base_uri": "https://localhost:8080/",
          "height": 181
        },
        "outputId": "2a1cbb59-f6b0-4a12-db2e-92272d1921c7"
      },
      "source": [
        "predicted_classes = np.argmax(predictions, axis=1)\n",
        "print(len(predicted_classes))\n",
        "\n",
        "true_classes = validation_generator.classes\n",
        "class_labels = list(validation_generator.class_indices.keys())   \n",
        "\n",
        "print(len(class_labels))\n",
        "print(len(true_classes))\n",
        "report = metrics.classification_report(true_classes, predicted_classes, target_names=class_labels)\n",
        "#print(report)    \n",
        "confusion_matrix = metrics.confusion_matrix(y_true=true_classes, y_pred=predicted_classes)  # shape=(12, 12)\n",
        "confusion_matrix\n",
        "\n"
      ],
      "execution_count": null,
      "outputs": [
        {
          "output_type": "stream",
          "text": [
            "1389\n",
            "50\n",
            "1389\n"
          ],
          "name": "stdout"
        },
        {
          "output_type": "execute_result",
          "data": {
            "text/plain": [
              "array([[2, 1, 0, ..., 2, 2, 1],\n",
              "       [2, 0, 2, ..., 0, 1, 1],\n",
              "       [0, 0, 1, ..., 1, 1, 0],\n",
              "       ...,\n",
              "       [0, 1, 1, ..., 1, 1, 0],\n",
              "       [0, 1, 0, ..., 0, 0, 0],\n",
              "       [0, 0, 2, ..., 0, 0, 1]])"
            ]
          },
          "metadata": {
            "tags": []
          },
          "execution_count": 17
        }
      ]
    },
    {
      "cell_type": "code",
      "metadata": {
        "id": "jwsQ29PYz3Qu",
        "colab_type": "code",
        "colab": {
          "base_uri": "https://localhost:8080/",
          "height": 66
        },
        "outputId": "28aa7cac-12e4-4200-989b-62e0c298de3c"
      },
      "source": [
        "confusion_matrix.diagonal()"
      ],
      "execution_count": null,
      "outputs": [
        {
          "output_type": "execute_result",
          "data": {
            "text/plain": [
              "array([2, 0, 1, 2, 0, 0, 0, 0, 1, 2, 1, 1, 1, 0, 1, 1, 0, 0, 0, 1, 0, 0,\n",
              "       0, 0, 1, 1, 0, 1, 1, 1, 0, 0, 1, 0, 0, 1, 2, 1, 2, 0, 2, 1, 1, 0,\n",
              "       0, 1, 0, 1, 0, 1])"
            ]
          },
          "metadata": {
            "tags": []
          },
          "execution_count": 19
        }
      ]
    },
    {
      "cell_type": "code",
      "metadata": {
        "id": "rLSOPk2Twxjr",
        "colab_type": "code",
        "colab": {
          "base_uri": "https://localhost:8080/",
          "height": 573
        },
        "outputId": "d63e6c93-de81-43c4-e413-b97e5bb212af"
      },
      "source": [
        "# Analysing model\n",
        "\n",
        "\n",
        "import matplotlib.pyplot as plt\n",
        "plt.plot(history.history['accuracy'])\n",
        "plt.plot(history.history['val_accuracy'])\n",
        "plt.title('model accuracy')\n",
        "plt.ylabel('accuracy')\n",
        "plt.xlabel('epoch')\n",
        "plt.legend(['train', 'test'], loc='upper left')\n",
        "plt.show()\n",
        "\n",
        "\n",
        "plt.plot(history.history['loss'])\n",
        "plt.plot(history.history['val_loss'])\n",
        "plt.title('model loss')\n",
        "plt.ylabel('loss')\n",
        "plt.xlabel('epoch')\n",
        "plt.legend(['train', 'test'], loc='upper left')\n",
        "plt.show()"
      ],
      "execution_count": null,
      "outputs": [
        {
          "output_type": "display_data",
          "data": {
            "image/png": "[encoded data removed]",
            "text/plain": [
              "<Figure size 432x288 with 1 Axes>"
            ]
          },
          "metadata": {
            "tags": [],
            "needs_background": "light"
          }
        },
        {
          "output_type": "display_data",
          "data": {
            "image/png": "[encoded data removed]",
            "text/plain": [
              "<Figure size 432x288 with 1 Axes>"
            ]
          },
          "metadata": {
            "tags": [],
            "needs_background": "light"
          }
        }
      ]
    },
    {
      "cell_type": "code",
      "metadata": {
        "id": "jjhI058cWePJ",
        "colab_type": "code",
        "colab": {}
      },
      "source": [
        ""
      ],
      "execution_count": null,
      "outputs": []
    },
    {
      "cell_type": "code",
      "metadata": {
        "id": "r-EtGtuWldwq",
        "colab_type": "code",
        "colab": {}
      },
      "source": [
        ""
      ],
      "execution_count": null,
      "outputs": []
    }
  ]
}